{
  "nbformat": 4,
  "nbformat_minor": 0,
  "metadata": {
    "colab": {
      "name": "izy_test.ipynb",
      "provenance": [],
      "authorship_tag": "ABX9TyP6f0wJHjx4z07YW/vMpF8j",
      "include_colab_link": true
    },
    "kernelspec": {
      "name": "python3",
      "display_name": "Python 3"
    },
    "language_info": {
      "name": "python"
    }
  },
  "cells": [
    {
      "cell_type": "markdown",
      "metadata": {
        "id": "view-in-github",
        "colab_type": "text"
      },
      "source": [
        "<a href=\"https://colab.research.google.com/github/tabasy/izy/blob/main/notebooks/demo_notebook.ipynb\" target=\"_parent\"><img src=\"https://colab.research.google.com/assets/colab-badge.svg\" alt=\"Open In Colab\"/></a>"
      ]
    },
    {
      "cell_type": "markdown",
      "source": [
        "# `izy`\n",
        "Python functions and classes that make python even *easier* than it is! You will wonder why these are not already built-in in python! :)\n",
        "\n",
        "The sooner you `pip install izy`, the less time you waste! Just 3 keystrokes to install and import :)"
      ],
      "metadata": {
        "id": "Bry9zVCSi0Tz"
      }
    },
    {
      "cell_type": "code",
      "source": [
        "!pip install izy==0.1.2"
      ],
      "metadata": {
        "colab": {
          "base_uri": "https://localhost:8080/"
        },
        "id": "q_8ov6Ghi2I5",
        "outputId": "20cd20cc-2dea-4164-9a31-2ba15326600a"
      },
      "execution_count": 5,
      "outputs": [
        {
          "output_type": "stream",
          "name": "stdout",
          "text": [
            "Requirement already satisfied: izy==0.1.2 in /usr/local/lib/python3.7/dist-packages (0.1.2)\n"
          ]
        }
      ]
    },
    {
      "cell_type": "markdown",
      "source": [
        "Now that you have it, here are the functionlities:"
      ],
      "metadata": {
        "id": "Q6P6c7Rci7fR"
      }
    },
    {
      "cell_type": "markdown",
      "source": [
        "# Sorting \n",
        "\n",
        "Some operations like `argsort` need 1 or 2 lines to implement in python, but the code is not pythonically readable as it should be. Some other functions like `topk` are somehow hidden in the built-in modules, which we expose with ease!\n",
        "\n",
        "Let us have a big list of numbers and give it an `izy` try:"
      ],
      "metadata": {
        "id": "dG0Vyn-gjCmJ"
      }
    },
    {
      "cell_type": "code",
      "source": [
        "from izy import *\n",
        "\n",
        "mylist = [4.2, 10, -8, 0, 4, 33, 6, 97, 1, 6., 41, -6, 0.0]\n",
        "topk(mylist, 4)"
      ],
      "metadata": {
        "colab": {
          "base_uri": "https://localhost:8080/"
        },
        "id": "UY7uAQjnjIap",
        "outputId": "c3c174f7-1e75-4cf4-da94-a8f77a0b446a"
      },
      "execution_count": 15,
      "outputs": [
        {
          "output_type": "execute_result",
          "data": {
            "text/plain": [
              "[97, 41, 33, 10]"
            ]
          },
          "metadata": {},
          "execution_count": 15
        }
      ]
    },
    {
      "cell_type": "code",
      "source": [
        "topk(mylist, -3)     # as you would expect"
      ],
      "metadata": {
        "colab": {
          "base_uri": "https://localhost:8080/"
        },
        "id": "FNtnGBkLn3Nj",
        "outputId": "a9e1e9e4-9254-4d55-b4a3-a61a22aa143e"
      },
      "execution_count": 16,
      "outputs": [
        {
          "output_type": "execute_result",
          "data": {
            "text/plain": [
              "[-8, -6, 0]"
            ]
          },
          "metadata": {},
          "execution_count": 16
        }
      ]
    },
    {
      "cell_type": "code",
      "source": [
        "argmin(mylist), argmax(mylist)"
      ],
      "metadata": {
        "colab": {
          "base_uri": "https://localhost:8080/"
        },
        "id": "F0b4GEYUn6DT",
        "outputId": "3a8fe09a-773d-4245-b98a-61f0f437cd4b"
      },
      "execution_count": 17,
      "outputs": [
        {
          "output_type": "execute_result",
          "data": {
            "text/plain": [
              "(2, 7)"
            ]
          },
          "metadata": {},
          "execution_count": 17
        }
      ]
    },
    {
      "cell_type": "code",
      "source": [
        "argsort(mylist)"
      ],
      "metadata": {
        "colab": {
          "base_uri": "https://localhost:8080/"
        },
        "id": "g5LAbShZn_IC",
        "outputId": "e9d2489d-8ca4-4068-bf3c-f2e74f895c8d"
      },
      "execution_count": 18,
      "outputs": [
        {
          "output_type": "execute_result",
          "data": {
            "text/plain": [
              "[2, 11, 3, 12, 8, 4, 0, 6, 9, 1, 5, 10, 7]"
            ]
          },
          "metadata": {},
          "execution_count": 18
        }
      ]
    },
    {
      "cell_type": "code",
      "source": [
        "descending(mylist)   # I like it more than sorted(x, reverse=True)"
      ],
      "metadata": {
        "colab": {
          "base_uri": "https://localhost:8080/"
        },
        "id": "aMP4M_c9oD0i",
        "outputId": "ffd23482-7e9c-4539-d412-d09dfce6bc3b"
      },
      "execution_count": 20,
      "outputs": [
        {
          "output_type": "execute_result",
          "data": {
            "text/plain": [
              "[97, 41, 33, 10, 6, 6.0, 4.2, 4, 1, 0, 0.0, -6, -8]"
            ]
          },
          "metadata": {},
          "execution_count": 20
        }
      ]
    },
    {
      "cell_type": "code",
      "source": [
        "reorder(mylist, argsort(mylist))    # like numpy array indexing"
      ],
      "metadata": {
        "colab": {
          "base_uri": "https://localhost:8080/"
        },
        "id": "TLqtGZvioKhp",
        "outputId": "07a33ed3-7ad2-48d7-fac4-563e487e3697"
      },
      "execution_count": 21,
      "outputs": [
        {
          "output_type": "execute_result",
          "data": {
            "text/plain": [
              "[-8, -6, 0, 0.0, 1, 4, 4.2, 6, 6.0, 10, 33, 41, 97]"
            ]
          },
          "metadata": {},
          "execution_count": 21
        }
      ]
    },
    {
      "cell_type": "markdown",
      "source": [
        "If you have a `dict` (or more precisely a `Mapping`), the `arg*` functions take `keys` as indices:"
      ],
      "metadata": {
        "id": "TdTd-KsMoWS4"
      }
    },
    {
      "cell_type": "code",
      "source": [
        "mydict = {'a': 1, 'b': 4, 'c': -1}\n",
        "\n",
        "argmin(mydict)"
      ],
      "metadata": {
        "colab": {
          "base_uri": "https://localhost:8080/",
          "height": 0
        },
        "id": "rwGNWXv_oZkw",
        "outputId": "3d866eff-eda4-42cd-f878-51abec8747ca"
      },
      "execution_count": 22,
      "outputs": [
        {
          "output_type": "execute_result",
          "data": {
            "application/vnd.google.colaboratory.intrinsic+json": {
              "type": "string"
            },
            "text/plain": [
              "'c'"
            ]
          },
          "metadata": {},
          "execution_count": 22
        }
      ]
    },
    {
      "cell_type": "code",
      "source": [
        "reorder(mydict, argsort(mydict))    # sorry it cannot return a sorted dict :) \n",
        "                                    # maybe an OrderedDict in the future..."
      ],
      "metadata": {
        "id": "WQv2sCg4oc0a"
      },
      "execution_count": null,
      "outputs": []
    },
    {
      "cell_type": "markdown",
      "source": [
        "# Scorer\n",
        "\n",
        "Dict subclass for scoring hashable items. Generalizes functionality of built-in `Counter` to to floating-point numbers with full math operation support."
      ],
      "metadata": {
        "id": "t_mRXa4sooxo"
      }
    },
    {
      "cell_type": "code",
      "source": [
        "from izy import Scorer\n",
        "\n",
        "s1 = Scorer({'a': 1, 'b': 2, 'c': 5})\n",
        "s1['d'] = 3\n",
        "print('s1 =', s1)\n",
        "\n",
        "s2 = Scorer('abc', [-2, 3, 4])\n",
        "print('s2 =', s2)"
      ],
      "metadata": {
        "colab": {
          "base_uri": "https://localhost:8080/"
        },
        "id": "xUuqZPChon36",
        "outputId": "70350de9-8362-42c4-ff7d-b5aabe8f9f0a"
      },
      "execution_count": 24,
      "outputs": [
        {
          "output_type": "stream",
          "name": "stdout",
          "text": [
            "s1 = Scorer({c: 5, d: 3, b: 2, a: 1})\n",
            "s2 = Scorer({c: 4, b: 3, a: -2})\n"
          ]
        }
      ]
    },
    {
      "cell_type": "markdown",
      "source": [
        "Mathematical operators (`+`, `-`, `*`, `/`, `//`, `%`, `**`) are supported for both `Scorer` and scalar right-hand operands. "
      ],
      "metadata": {
        "id": "r4bDmKFKpBfq"
      }
    },
    {
      "cell_type": "code",
      "source": [
        "print('s1 + s2 =', s1 + s2)\n",
        "print('s1 / 4 =', s1 / 4)"
      ],
      "metadata": {
        "colab": {
          "base_uri": "https://localhost:8080/"
        },
        "id": "hSpOZdqOpDNK",
        "outputId": "5ecc074a-bd29-42a1-b933-0941aef888f4"
      },
      "execution_count": 27,
      "outputs": [
        {
          "output_type": "stream",
          "name": "stdout",
          "text": [
            "s1 + s2 = Scorer({c: 9, b: 5, d: 3, a: -1})\n",
            "s1 / 4 = Scorer({c: 1.25, d: 0.75, b: 0.5, a: 0.25})\n"
          ]
        }
      ]
    },
    {
      "cell_type": "markdown",
      "source": [
        "> ***WARNING!*** To support partial update with math operations, we carry non-common items from the first operand unchanged, but those from the second operand are ignored.\n",
        "\n",
        "Unary math operators (`+`, `-`) are available too."
      ],
      "metadata": {
        "id": "QcDbOcj3pT8s"
      }
    },
    {
      "cell_type": "code",
      "source": [
        "print('+s2 =', +s2)                   # special usage for useless uniary `+` (only keeps positive itmes)\n",
        "print('s1 + (+s2) =', s1 + (+s2))     # not equivalent to s1 + s2"
      ],
      "metadata": {
        "colab": {
          "base_uri": "https://localhost:8080/"
        },
        "id": "WyRATrzBpUUk",
        "outputId": "2d53dcd8-33a2-47b0-ff12-3b4920ef85dc"
      },
      "execution_count": 29,
      "outputs": [
        {
          "output_type": "stream",
          "name": "stdout",
          "text": [
            "+s2 = Scorer({c: 4, b: 3})\n",
            "s1 + (+s2) = Scorer({c: 9, b: 5, d: 3, a: 1})\n"
          ]
        }
      ]
    },
    {
      "cell_type": "markdown",
      "source": [
        "We also have `abs()`, `round()`:"
      ],
      "metadata": {
        "id": "ya2MFLUVpgna"
      }
    },
    {
      "cell_type": "code",
      "source": [
        "print('abs(s2) =', abs(s2)) \n",
        "print('round(s2/4, 1) =', round(s2/4, 1))"
      ],
      "metadata": {
        "colab": {
          "base_uri": "https://localhost:8080/"
        },
        "id": "VGZeFE8hpg2T",
        "outputId": "695a8172-c87f-4b5a-afde-f07ccc776894"
      },
      "execution_count": 32,
      "outputs": [
        {
          "output_type": "stream",
          "name": "stdout",
          "text": [
            "abs(s2) = Scorer({c: 4, b: 3, a: 2})\n",
            "round(s2/4, 1) = Scorer({c: 1.0, b: 0.8, a: -0.5})\n"
          ]
        }
      ]
    },
    {
      "cell_type": "markdown",
      "source": [
        "Logical operators `&`, `|` apply element-wise min/max and they are also applicable to scalars. As `Scorer` is not a `set` or even `multiset` (like `Counter`), we don't refer to these as intersection and union, but the functionalities are still similar. "
      ],
      "metadata": {
        "id": "oJzGh_tyqBlq"
      }
    },
    {
      "cell_type": "code",
      "source": [
        "print('s1 & s2 =', abs(s1 & s2))      # ~ min (drops non-common items)\n",
        "print('s1 & 2 =', s1 & 2)             # drops items with score less than 2\n",
        "print('s1 | s2 =', s1 | s2)           # ~ max\n"
      ],
      "metadata": {
        "colab": {
          "base_uri": "https://localhost:8080/"
        },
        "id": "klQBmiTEqIgi",
        "outputId": "66a31d9b-d0dd-4795-c3b3-70e1aa264136"
      },
      "execution_count": 35,
      "outputs": [
        {
          "output_type": "stream",
          "name": "stdout",
          "text": [
            "s1 & s2 = Scorer({c: 4, a: 2, b: 2})\n",
            "s1 & 2 = Scorer({c: 5, d: 3, b: 2})\n",
            "s1 | s2 = Scorer({c: 5, b: 3, d: 3, a: 1})\n"
          ]
        }
      ]
    },
    {
      "cell_type": "markdown",
      "source": [
        "> About the above warning, note that `(s1 | (s1 & s2))` gives the subset of `s1` which also exists in `s2`. You can use this to force math operations to return common items only.\n",
        "\n",
        "And finally the ultimate goal of the `Scorer` is to sort its items according to scores and give us the `best`, `topk` (or `worst`, `bottomk`)."
      ],
      "metadata": {
        "id": "QSFNjcviqtDq"
      }
    },
    {
      "cell_type": "code",
      "source": [
        "print('s1.best() =', s1.best())           \n",
        "print('s1.topk(3) =', s1.topk(3))           # alias to `s1.best` but more readable when you specify the number of items\n",
        "print('s1.topk(-2) =', s1.topk(-2))         # negative k means bottom k\n",
        "print('s1.ascending() =', s1.ascending())   # prefer this to `best` or `topk` with special values of n or k (None, 0, inf)\n",
        "print('s1.median() =', s1.median())         # if scorer length is even, lower median is returned"
      ],
      "metadata": {
        "id": "f5wafotMquTi"
      },
      "execution_count": null,
      "outputs": []
    },
    {
      "cell_type": "markdown",
      "source": [
        "# Decorators\n",
        "\n",
        "Python `functools` is really interesting, but it really lacks some generally usefull decorators."
      ],
      "metadata": {
        "id": "ChY-YRTKiiua"
      }
    },
    {
      "cell_type": "markdown",
      "source": [
        "First, `@returns()` and `@yields()` make your function/generator return/yield `namedtuple`s to more pythonically access your function output. It also looks like an easy documentation to me (about the *meaning* of what function returns and not just the `type`)."
      ],
      "metadata": {
        "id": "SbVbUSKcu9G6"
      }
    },
    {
      "cell_type": "code",
      "source": [
        "from izy import *\n",
        "\n",
        "@returns('x', 'plus_one')\n",
        "def myfunction(x):\n",
        "    return x, x+1\n",
        "\n",
        "@yields('a', 'a_doubled')\n",
        "def mygenerator(x):\n",
        "    for i in range(x):\n",
        "        yield i, i*2\n",
        "\n",
        "print('myfunction(5) =', myfunction(5))\n",
        "print('myfunction(5).plus_one =', myfunction(5).plus_one)"
      ],
      "metadata": {
        "colab": {
          "base_uri": "https://localhost:8080/"
        },
        "id": "W-kpRXajrqoK",
        "outputId": "c2efd072-13ec-4c9e-e72f-f03a5d9b4ee5"
      },
      "execution_count": 1,
      "outputs": [
        {
          "output_type": "stream",
          "name": "stdout",
          "text": [
            "myfunction(5) = myfunction_output(x=5, plus_one=6)\n",
            "myfunction(5).plus_one = 6\n"
          ]
        }
      ]
    },
    {
      "cell_type": "markdown",
      "source": [
        "`@returns_time()` calculates function runtime and returns it as a `datetime.timedelta` object. You can change time format to `milis` (`int`) or `seconds` (`float`). It returns a  `namedtuple` which you can rename with using `@returns`.\n"
      ],
      "metadata": {
        "id": "YE_-rZ8ArrS6"
      }
    },
    {
      "cell_type": "code",
      "source": [
        "@returns_time()\n",
        "def timed(x):\n",
        "    z = 0\n",
        "    for i in range(x * 1000000):\n",
        "        z += i\n",
        "\n",
        "@returns('output', 'milis')\n",
        "@returns_time(milis=True)\n",
        "def timed_milis(x):\n",
        "    z = 0\n",
        "    for i in range(x * 1000000):\n",
        "        z += i\n",
        "    return 'done'\n",
        "\n",
        "print('timed(64) =', timed(64))\n",
        "print('timed_milis(32) =', timed_milis(32))"
      ],
      "metadata": {
        "colab": {
          "base_uri": "https://localhost:8080/"
        },
        "id": "R0V1ouxPruxz",
        "outputId": "297e9bc5-fd6c-44b4-a968-8127df7ec95a"
      },
      "execution_count": 37,
      "outputs": [
        {
          "output_type": "stream",
          "name": "stdout",
          "text": [
            "timed(64) = timed_output(output=None, time=datetime.timedelta(seconds=4, microseconds=559257))\n",
            "timed_milis(32) = timed_milis_output(output='done', milis=2264)\n"
          ]
        }
      ]
    },
    {
      "cell_type": "markdown",
      "source": [
        "`@logs()` does what it says at three stages: before calling, after returning and on exceptions. You can control log level for each stage, log `to_file` using default logger (named after the function) or pass your own `logging.Logger`.\n"
      ],
      "metadata": {
        "id": "tccXg1LJr9Mq"
      }
    },
    {
      "cell_type": "code",
      "source": [
        "import logging\n",
        "\n",
        "root_logger = logging.getLogger()\n",
        "root_logger.setLevel(logging.DEBUG)\n",
        "\n",
        "@logs(before=logging.DEBUG, after=logging.INFO, to_file='logged.log', file_mode='a')\n",
        "def logged(x, **kw):\n",
        "    for i in range(1000000):\n",
        "        x += i\n",
        "  \n",
        "logged(1, key1=5, key2=7.2)"
      ],
      "metadata": {
        "colab": {
          "base_uri": "https://localhost:8080/"
        },
        "id": "o8G4xUOvsCJh",
        "outputId": "5b462498-a098-495e-d940-94800e6a0eca"
      },
      "execution_count": 2,
      "outputs": [
        {
          "output_type": "stream",
          "name": "stdout",
          "text": [
            "[2021-12-31 18:19:24][logged][DEBUG] - Function `logged` called with args: (1, key1=5, key2=7.2)\n",
            "[2021-12-31 18:19:24][logged][INFO] - Function `logged` returned after 0:00:00.077679 with output: None\n"
          ]
        }
      ]
    },
    {
      "cell_type": "code",
      "source": [
        "!head logged.log"
      ],
      "metadata": {
        "colab": {
          "base_uri": "https://localhost:8080/"
        },
        "id": "f9S3GGmXsKpS",
        "outputId": "0a8dbebf-1ff3-4547-ea73-ec2b09f85a66"
      },
      "execution_count": 3,
      "outputs": [
        {
          "output_type": "stream",
          "name": "stdout",
          "text": [
            "[2021-12-31 18:19:24][logged][DEBUG] - Function `logged` called with args: (1, key1=5, key2=7.2)\n",
            "[2021-12-31 18:19:24][logged][INFO] - Function `logged` returned after 0:00:00.077679 with output: None\n"
          ]
        }
      ]
    },
    {
      "cell_type": "markdown",
      "source": [
        "`@fix_this()` reminds you to fix something in stronger way than a passive comment. It raises `UserWarning` at runtime and does this everytime :)\n"
      ],
      "metadata": {
        "id": "o4Oobz2BsBIy"
      }
    },
    {
      "cell_type": "code",
      "source": [
        "@fix_this('It always prints ValueError, errors should be raised!')\n",
        "def please(x):\n",
        "    print('ValueError')"
      ],
      "metadata": {
        "colab": {
          "base_uri": "https://localhost:8080/"
        },
        "id": "_YdMe19AsgAz",
        "outputId": "27ac52b2-8189-4d5a-f35e-6e41064ba9a9"
      },
      "execution_count": 41,
      "outputs": [
        {
          "output_type": "stream",
          "name": "stderr",
          "text": [
            "/usr/local/lib/python3.7/dist-packages/izy/decorator.py:134: UserWarning: You need to fix `please`! It always prints ValueError, errors should be raised!\n",
            "  warnings.warn(message=message)\n"
          ]
        }
      ]
    },
    {
      "cell_type": "markdown",
      "source": [
        "This one `@ignores()` exceptions you define (and returns `None`). Who knows when and why you need this? :) You can stack it on top of `@logs()` to be aware of ignored exceptions.  \n"
      ],
      "metadata": {
        "id": "gEnr8DVdsosB"
      }
    },
    {
      "cell_type": "code",
      "source": [
        "@ignores(ValueError, IndexError)\n",
        "@logs()\n",
        "def ignorer(x):\n",
        "    for i in range(x):\n",
        "        raise ValueError\n",
        "\n",
        "ignorer(5)"
      ],
      "metadata": {
        "colab": {
          "base_uri": "https://localhost:8080/"
        },
        "id": "50Zr2CXxsvXx",
        "outputId": "1b57afd0-5a5f-49c4-9e99-7ea6a8a1dbd6"
      },
      "execution_count": 42,
      "outputs": [
        {
          "output_type": "stream",
          "name": "stdout",
          "text": [
            "[2021-12-31 18:14:26][ignorer][ERROR] - ValueError() raised in `ignorer` after 0:00:00.000039!\n"
          ]
        }
      ]
    },
    {
      "cell_type": "markdown",
      "source": [
        "Want more useful exception handler? `@fallsback()` falls back on specified exception to predefined return value or another `callable`. For multiple exceptions, stack it like this:\n"
      ],
      "metadata": {
        "id": "ZtxPrAH2uWXa"
      }
    },
    {
      "cell_type": "code",
      "source": [
        "@fallsback(ZeroDivisionError, 1)\n",
        "@fallsback(ValueError, lambda x: x**2)\n",
        "def multifb(x):\n",
        "    if x < 0:\n",
        "        raise ValueError\n",
        "    else:\n",
        "        raise ZeroDivisionError\n",
        "\n",
        "print('multifb(-5) =', multifb(-5))\n",
        "print('multifb(7) =', multifb(7))"
      ],
      "metadata": {
        "colab": {
          "base_uri": "https://localhost:8080/"
        },
        "id": "pEZ-AoMArZO5",
        "outputId": "ca8408c3-f411-439b-81c1-781deee13402"
      },
      "execution_count": 4,
      "outputs": [
        {
          "output_type": "stream",
          "name": "stdout",
          "text": [
            "multifb(-5) = 25\n",
            "multifb(7) = 1\n"
          ]
        }
      ]
    }
  ]
}