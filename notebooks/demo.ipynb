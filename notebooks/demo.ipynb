{
  "nbformat": 4,
  "nbformat_minor": 0,
  "metadata": {
    "colab": {
      "name": "izy_demo.ipynb",
      "provenance": [],
      "collapsed_sections": [
        "dG0Vyn-gjCmJ",
        "t_mRXa4sooxo"
      ],
      "authorship_tag": "ABX9TyNuWJ7r3UAGYxUoNaChv+QR",
      "include_colab_link": true
    },
    "kernelspec": {
      "name": "python3",
      "display_name": "Python 3"
    },
    "language_info": {
      "name": "python"
    }
  },
  "cells": [
    {
      "cell_type": "markdown",
      "metadata": {
        "id": "view-in-github",
        "colab_type": "text"
      },
      "source": [
        "<a href=\"https://colab.research.google.com/github/tabasy/izy/blob/main/notebooks/demo.ipynb\" target=\"_parent\"><img src=\"https://colab.research.google.com/assets/colab-badge.svg\" alt=\"Open In Colab\"/></a>"
      ]
    },
    {
      "cell_type": "markdown",
      "source": [
        "# `izy`\n",
        "Python functions and classes that make python even *easier* than it is! You will wonder why some of these are not already built-in in python! :)\n",
        "\n",
        "The sooner you `pip install izy`, the less time you waste! Just 3 keystrokes to install and import :)"
      ],
      "metadata": {
        "id": "Bry9zVCSi0Tz"
      }
    },
    {
      "cell_type": "code",
      "source": [
        "!pip install izy==0.2.0"
      ],
      "metadata": {
        "colab": {
          "base_uri": "https://localhost:8080/"
        },
        "id": "q_8ov6Ghi2I5",
        "outputId": "fb399dd7-9fa5-41d1-c41e-920410ccc0d1"
      },
      "execution_count": 1,
      "outputs": [
        {
          "output_type": "stream",
          "name": "stdout",
          "text": [
            "Collecting izy==0.2.0\n",
            "  Downloading izy-0.2.0-py3-none-any.whl (14 kB)\n",
            "Installing collected packages: izy\n",
            "Successfully installed izy-0.2.0\n"
          ]
        }
      ]
    },
    {
      "cell_type": "markdown",
      "source": [
        "Now that you have it, here are the functionlities:"
      ],
      "metadata": {
        "id": "Q6P6c7Rci7fR"
      }
    },
    {
      "cell_type": "markdown",
      "source": [
        "# Sorting \n",
        "\n",
        "Some operations like `argsort` need 1 or 2 lines to implement in python, but the code is not pythonically readable as it should be. Some other functions like `topk` are somehow hidden in the built-in modules, which we expose with ease!\n",
        "\n",
        "Let us have a big list of numbers and give it an `izy` try:"
      ],
      "metadata": {
        "id": "dG0Vyn-gjCmJ"
      }
    },
    {
      "cell_type": "code",
      "source": [
        "from izy import *\n",
        "\n",
        "mylist = [4.2, 10, -8, 0, 4, 33, 6, 97, 1, 6., 41, -6, 0.0]\n",
        "topk(mylist, 4)"
      ],
      "metadata": {
        "colab": {
          "base_uri": "https://localhost:8080/"
        },
        "id": "UY7uAQjnjIap",
        "outputId": "5edad039-f945-4d18-8865-766fb0497d3b"
      },
      "execution_count": 2,
      "outputs": [
        {
          "output_type": "execute_result",
          "data": {
            "text/plain": [
              "[97, 41, 33, 10]"
            ]
          },
          "metadata": {},
          "execution_count": 2
        }
      ]
    },
    {
      "cell_type": "code",
      "source": [
        "topk(mylist, -3)     # as you would expect"
      ],
      "metadata": {
        "colab": {
          "base_uri": "https://localhost:8080/"
        },
        "id": "FNtnGBkLn3Nj",
        "outputId": "44f5fb94-c4cd-4614-d651-c3e707774bd7"
      },
      "execution_count": 3,
      "outputs": [
        {
          "output_type": "execute_result",
          "data": {
            "text/plain": [
              "[-8, -6, 0]"
            ]
          },
          "metadata": {},
          "execution_count": 3
        }
      ]
    },
    {
      "cell_type": "code",
      "source": [
        "argmin(mylist), argmax(mylist)"
      ],
      "metadata": {
        "colab": {
          "base_uri": "https://localhost:8080/"
        },
        "id": "F0b4GEYUn6DT",
        "outputId": "0b783608-fa91-4da5-a1c4-091ddefd8f9b"
      },
      "execution_count": 4,
      "outputs": [
        {
          "output_type": "execute_result",
          "data": {
            "text/plain": [
              "(2, 7)"
            ]
          },
          "metadata": {},
          "execution_count": 4
        }
      ]
    },
    {
      "cell_type": "code",
      "source": [
        "argsort(mylist)"
      ],
      "metadata": {
        "colab": {
          "base_uri": "https://localhost:8080/"
        },
        "id": "g5LAbShZn_IC",
        "outputId": "62603e14-a657-4dc5-eabb-a6e869a239bf"
      },
      "execution_count": 5,
      "outputs": [
        {
          "output_type": "execute_result",
          "data": {
            "text/plain": [
              "[2, 11, 3, 12, 8, 4, 0, 6, 9, 1, 5, 10, 7]"
            ]
          },
          "metadata": {},
          "execution_count": 5
        }
      ]
    },
    {
      "cell_type": "code",
      "source": [
        "descending(mylist)   # I like it more than sorted(x, reverse=True)"
      ],
      "metadata": {
        "colab": {
          "base_uri": "https://localhost:8080/"
        },
        "id": "aMP4M_c9oD0i",
        "outputId": "cd555627-49f5-42a5-efb2-2e498caa5745"
      },
      "execution_count": 6,
      "outputs": [
        {
          "output_type": "execute_result",
          "data": {
            "text/plain": [
              "[97, 41, 33, 10, 6, 6.0, 4.2, 4, 1, 0, 0.0, -6, -8]"
            ]
          },
          "metadata": {},
          "execution_count": 6
        }
      ]
    },
    {
      "cell_type": "code",
      "source": [
        "reorder(mylist, argsort(mylist))    # like numpy array indexing"
      ],
      "metadata": {
        "colab": {
          "base_uri": "https://localhost:8080/"
        },
        "id": "TLqtGZvioKhp",
        "outputId": "fefe3f5a-37d0-4c36-d495-1f36cb926643"
      },
      "execution_count": 7,
      "outputs": [
        {
          "output_type": "execute_result",
          "data": {
            "text/plain": [
              "[-8, -6, 0, 0.0, 1, 4, 4.2, 6, 6.0, 10, 33, 41, 97]"
            ]
          },
          "metadata": {},
          "execution_count": 7
        }
      ]
    },
    {
      "cell_type": "markdown",
      "source": [
        "If you have a `dict` (or more precisely a `Mapping`), the `arg*` functions take `keys` as indices:"
      ],
      "metadata": {
        "id": "TdTd-KsMoWS4"
      }
    },
    {
      "cell_type": "code",
      "source": [
        "mydict = {'a': 1, 'b': 4, 'c': -1}\n",
        "\n",
        "argmin(mydict)"
      ],
      "metadata": {
        "colab": {
          "base_uri": "https://localhost:8080/",
          "height": 35
        },
        "id": "rwGNWXv_oZkw",
        "outputId": "2e992040-97f8-4dd2-8d14-bb530d100c72"
      },
      "execution_count": 8,
      "outputs": [
        {
          "output_type": "execute_result",
          "data": {
            "application/vnd.google.colaboratory.intrinsic+json": {
              "type": "string"
            },
            "text/plain": [
              "'c'"
            ]
          },
          "metadata": {},
          "execution_count": 8
        }
      ]
    },
    {
      "cell_type": "code",
      "source": [
        "reorder(mydict, argsort(mydict))    # as it should be"
      ],
      "metadata": {
        "colab": {
          "base_uri": "https://localhost:8080/"
        },
        "id": "WQv2sCg4oc0a",
        "outputId": "78076206-dde3-47a1-f0ca-90ad1eca4638"
      },
      "execution_count": 9,
      "outputs": [
        {
          "output_type": "execute_result",
          "data": {
            "text/plain": [
              "OrderedDict([('c', -1), ('a', 1), ('b', 4)])"
            ]
          },
          "metadata": {},
          "execution_count": 9
        }
      ]
    },
    {
      "cell_type": "markdown",
      "source": [
        "If you liked what `reorder()` did to a dictionary, consider `ordered()` as an alternative to built-in `sorted()`. `ordered()` tries to return the sorted (ordered) variant of the input, while preserving its key properties. The behavior is as follows:\n",
        "* `Mapping`-> `OrderedDict` which is a `Mapping` too.\n",
        "* `MutableSequence` or `MutableSet` -> `list` (equivalent to `sorted()` in this case)\n",
        "* *immutable* `Sequence` or `Set` -> `tuple`\n"
      ],
      "metadata": {
        "id": "G1v01u-hhbQ_"
      }
    },
    {
      "cell_type": "code",
      "source": [
        "ordered(mydict)"
      ],
      "metadata": {
        "colab": {
          "base_uri": "https://localhost:8080/"
        },
        "id": "ocdGkyKskts3",
        "outputId": "4fead4dc-f6c0-4878-95b7-529e5f474ba0"
      },
      "execution_count": 10,
      "outputs": [
        {
          "output_type": "execute_result",
          "data": {
            "text/plain": [
              "OrderedDict([('c', -1), ('a', 1), ('b', 4)])"
            ]
          },
          "metadata": {},
          "execution_count": 10
        }
      ]
    },
    {
      "cell_type": "code",
      "source": [
        "ordered(frozenset({2, 4, -5}))"
      ],
      "metadata": {
        "colab": {
          "base_uri": "https://localhost:8080/"
        },
        "id": "kZhjaTVYkwlP",
        "outputId": "4d0ad263-ab6c-4ae3-f708-ae7c3f39f71f"
      },
      "execution_count": 11,
      "outputs": [
        {
          "output_type": "execute_result",
          "data": {
            "text/plain": [
              "(-5, 2, 4)"
            ]
          },
          "metadata": {},
          "execution_count": 11
        }
      ]
    },
    {
      "cell_type": "markdown",
      "source": [
        "# Scorer\n",
        "\n",
        "The `Scorer` is a `dict` subclass for scoring hashable items. It generalizes functionality of built-in `Counter` to floating-point numbers with full math operation support."
      ],
      "metadata": {
        "id": "t_mRXa4sooxo"
      }
    },
    {
      "cell_type": "code",
      "source": [
        "from izy import Scorer\n",
        "\n",
        "s1 = Scorer({'a': 1, 'b': 2, 'c': 5})\n",
        "s1['d'] = 3\n",
        "print('s1 =', s1)\n",
        "\n",
        "s2 = Scorer('abc', [-2, 3, 4])\n",
        "print('s2 =', s2)"
      ],
      "metadata": {
        "colab": {
          "base_uri": "https://localhost:8080/"
        },
        "id": "xUuqZPChon36",
        "outputId": "bd9c8f39-8126-4fcc-b0b2-a24f24edee9a"
      },
      "execution_count": 12,
      "outputs": [
        {
          "output_type": "stream",
          "name": "stdout",
          "text": [
            "s1 = Scorer({c: 5, d: 3, b: 2, a: 1})\n",
            "s2 = Scorer({c: 4, b: 3, a: -2})\n"
          ]
        }
      ]
    },
    {
      "cell_type": "markdown",
      "source": [
        "Mathematical operators (`+`, `-`, `*`, `/`, `//`, `%`, `**`) are supported for both `Scorer` and scalar right-hand operands. "
      ],
      "metadata": {
        "id": "r4bDmKFKpBfq"
      }
    },
    {
      "cell_type": "code",
      "source": [
        "print('s1 + s2 =', s1 + s2)\n",
        "print('s1 / 4 =', s1 / 4)"
      ],
      "metadata": {
        "colab": {
          "base_uri": "https://localhost:8080/"
        },
        "id": "hSpOZdqOpDNK",
        "outputId": "cf8729b6-10a5-42f0-de4e-c54d10dd4664"
      },
      "execution_count": 13,
      "outputs": [
        {
          "output_type": "stream",
          "name": "stdout",
          "text": [
            "s1 + s2 = Scorer({c: 9, b: 5, d: 3, a: -1})\n",
            "s1 / 4 = Scorer({c: 1.25, d: 0.75, b: 0.5, a: 0.25})\n"
          ]
        }
      ]
    },
    {
      "cell_type": "markdown",
      "source": [
        "> ***WARNING!*** To support partial update with math operations, we carry non-common items from the first operand unchanged, but those from the second operand are ignored.\n",
        "\n",
        "Unary math operators (`+`, `-`) are available too."
      ],
      "metadata": {
        "id": "QcDbOcj3pT8s"
      }
    },
    {
      "cell_type": "code",
      "source": [
        "print('+s2 =', +s2)                   # special usage for useless uniary `+` (only keeps positive itmes)\n",
        "print('s1 + (+s2) =', s1 + (+s2))     # not equivalent to s1 + s2"
      ],
      "metadata": {
        "colab": {
          "base_uri": "https://localhost:8080/"
        },
        "id": "WyRATrzBpUUk",
        "outputId": "b71434ef-3c86-422e-bf13-060d459da1af"
      },
      "execution_count": 14,
      "outputs": [
        {
          "output_type": "stream",
          "name": "stdout",
          "text": [
            "+s2 = Scorer({c: 4, b: 3})\n",
            "s1 + (+s2) = Scorer({c: 9, b: 5, d: 3, a: 1})\n"
          ]
        }
      ]
    },
    {
      "cell_type": "markdown",
      "source": [
        "We also have `abs()`, `round()`:"
      ],
      "metadata": {
        "id": "ya2MFLUVpgna"
      }
    },
    {
      "cell_type": "code",
      "source": [
        "print('abs(s2) =', abs(s2)) \n",
        "print('round(s2/4, 1) =', round(s2/4, 1))"
      ],
      "metadata": {
        "colab": {
          "base_uri": "https://localhost:8080/"
        },
        "id": "VGZeFE8hpg2T",
        "outputId": "45c07c5f-7407-4781-e45d-d4a69178eace"
      },
      "execution_count": 15,
      "outputs": [
        {
          "output_type": "stream",
          "name": "stdout",
          "text": [
            "abs(s2) = Scorer({c: 4, b: 3, a: 2})\n",
            "round(s2/4, 1) = Scorer({c: 1.0, b: 0.8, a: -0.5})\n"
          ]
        }
      ]
    },
    {
      "cell_type": "markdown",
      "source": [
        "Logical operators `&`, `|` apply element-wise min/max and they are also applicable to scalars. As `Scorer` is not a `set` or even `multiset` (like `Counter`), we don't refer to these as intersection and union, but the functionalities are still similar. "
      ],
      "metadata": {
        "id": "oJzGh_tyqBlq"
      }
    },
    {
      "cell_type": "code",
      "source": [
        "print('s1 & s2 =', abs(s1 & s2))      # ~ min (drops non-common items)\n",
        "print('s1 & 2 =', s1 & 2)             # drops items with score less than 2\n",
        "print('s1 | s2 =', s1 | s2)           # ~ max\n"
      ],
      "metadata": {
        "colab": {
          "base_uri": "https://localhost:8080/"
        },
        "id": "klQBmiTEqIgi",
        "outputId": "2cfaff1b-b23b-4d38-c714-a109097b953a"
      },
      "execution_count": 16,
      "outputs": [
        {
          "output_type": "stream",
          "name": "stdout",
          "text": [
            "s1 & s2 = Scorer({c: 4, a: 2, b: 2})\n",
            "s1 & 2 = Scorer({c: 5, d: 3, b: 2})\n",
            "s1 | s2 = Scorer({c: 5, b: 3, d: 3, a: 1})\n"
          ]
        }
      ]
    },
    {
      "cell_type": "markdown",
      "source": [
        "> About the above warning, note that `(s1 | (s1 & s2))` gives the subset of `s1` which also exists in `s2`. You can use this to force math operations to return common items only.\n",
        "\n",
        "And finally the ultimate goal of the `Scorer` is to sort its items according to scores and give us the `best`, `topk` (or `worst`, `bottomk`)."
      ],
      "metadata": {
        "id": "QSFNjcviqtDq"
      }
    },
    {
      "cell_type": "code",
      "source": [
        "print('s1.best() =', s1.best())           \n",
        "print('s1.topk(3) =', s1.topk(3))           # alias to `s1.best` but more readable when you specify the number of items\n",
        "print('s1.topk(-2) =', s1.topk(-2))         # negative k means bottom k\n",
        "print('s1.ascending() =', s1.ascending())   # prefer this to `best` or `topk` with special values of n or k (None, 0, inf)\n",
        "print('s1.median() =', s1.median())         # if scorer length is even, lower median is returned"
      ],
      "metadata": {
        "colab": {
          "base_uri": "https://localhost:8080/"
        },
        "id": "f5wafotMquTi",
        "outputId": "7ceeafdb-6cbf-45ff-fb68-994be7b7d62c"
      },
      "execution_count": 17,
      "outputs": [
        {
          "output_type": "stream",
          "name": "stdout",
          "text": [
            "s1.best() = ('c', 5)\n",
            "s1.topk(3) = [('c', 5), ('d', 3), ('b', 2)]\n",
            "s1.topk(-2) = [('a', 1), ('b', 2)]\n",
            "s1.ascending() = [('a', 1), ('b', 2), ('d', 3), ('c', 5)]\n",
            "s1.median() = ('b', 2)\n"
          ]
        }
      ]
    },
    {
      "cell_type": "markdown",
      "source": [
        "# Decorators\n",
        "\n",
        "Python `functools` is really interesting, but it really lacks some generally usefull   decorators. There are some sippets scattered around and in [PythonDecoratorLibrary](https://wiki.python.org/moin/PythonDecoratorLibrary), but I wanted to gather my favourites in a single package."
      ],
      "metadata": {
        "id": "ChY-YRTKiiua"
      }
    },
    {
      "cell_type": "markdown",
      "source": [
        "First, `@returns()` and `@yields()` make your function/generator return/yield `namedtuple`s to more pythonically access your function output. It also looks like an easy documentation to me (about the *meaning* of what function returns and not just the `type`)."
      ],
      "metadata": {
        "id": "SbVbUSKcu9G6"
      }
    },
    {
      "cell_type": "code",
      "source": [
        "from izy import *\n",
        "\n",
        "@returns(x='the input', plus_one='input + 1')\n",
        "def myfunction(x):\n",
        "    return x, x+1\n",
        "\n",
        "@yields('a', 'a_doubled')\n",
        "def mygenerator(x):\n",
        "    for i in range(x):\n",
        "        yield i, i*2\n",
        "\n",
        "print('myfunction(5) =', myfunction(5))\n",
        "print('myfunction(5).plus_one =', myfunction(5).plus_one)\n",
        "print('\\nmyfunction.__doc__ =\\n', myfunction.__doc__)\n"
      ],
      "metadata": {
        "colab": {
          "base_uri": "https://localhost:8080/"
        },
        "id": "W-kpRXajrqoK",
        "outputId": "38e25b38-ee87-4842-a865-ffce65b10c47"
      },
      "execution_count": 18,
      "outputs": [
        {
          "output_type": "stream",
          "name": "stdout",
          "text": [
            "myfunction(5) = myfunction_output(x=5, plus_one=6)\n",
            "myfunction(5).plus_one = 6\n",
            "\n",
            "myfunction.__doc__ =\n",
            " Returns:\n",
            "\tx: the input\n",
            "\tplus_one: input + 1\n",
            "\n"
          ]
        }
      ]
    },
    {
      "cell_type": "markdown",
      "source": [
        "`@returns_time()` calculates function runtime and returns it as a `datetime.timedelta` object. You can change time format to `milis` (`int`) or `seconds` (`float`). It returns a  `namedtuple` which you can rename with using `@returns`.\n"
      ],
      "metadata": {
        "id": "YE_-rZ8ArrS6"
      }
    },
    {
      "cell_type": "code",
      "source": [
        "@returns_time()\n",
        "def timed(x):\n",
        "    z = 0\n",
        "    for i in range(x * 1000000):\n",
        "        z += i\n",
        "\n",
        "@returns('output', 'milis')\n",
        "@returns_time(milis=True)\n",
        "def timed_milis(x):\n",
        "    z = 0\n",
        "    for i in range(x * 1000000):\n",
        "        z += i\n",
        "    return 'done'\n",
        "\n",
        "print('timed(64) =', timed(64))\n",
        "print('timed_milis(32) =', timed_milis(32))"
      ],
      "metadata": {
        "colab": {
          "base_uri": "https://localhost:8080/"
        },
        "id": "R0V1ouxPruxz",
        "outputId": "7f08f58f-d6a4-448a-f737-c911980b8934"
      },
      "execution_count": 19,
      "outputs": [
        {
          "output_type": "stream",
          "name": "stdout",
          "text": [
            "timed(64) = timed_output(output=None, time=datetime.timedelta(seconds=4, microseconds=734713))\n",
            "timed_milis(32) = timed_milis_output(output='done', milis=2284)\n"
          ]
        }
      ]
    },
    {
      "cell_type": "markdown",
      "source": [
        "`@logs()` does what it says at three stages: before calling, after returning and on exceptions. You can control log level for each stage, log `to_file` using default logger (named after the function) or pass your own `logging.Logger`.\n"
      ],
      "metadata": {
        "id": "tccXg1LJr9Mq"
      }
    },
    {
      "cell_type": "code",
      "source": [
        "import logging\n",
        "\n",
        "root_logger = logging.getLogger()\n",
        "root_logger.setLevel(logging.DEBUG)\n",
        "\n",
        "@logs(before=logging.DEBUG, after=logging.INFO,\n",
        "      to_file='logged.log', file_mode='a')\n",
        "def logged(x, **kw):\n",
        "    for i in range(1000000):\n",
        "        x += i\n",
        "  \n",
        "logged(1, key1=5, key2=7.2)"
      ],
      "metadata": {
        "colab": {
          "base_uri": "https://localhost:8080/"
        },
        "id": "o8G4xUOvsCJh",
        "outputId": "fb26432c-2e5b-44f2-df17-941ce288f23b"
      },
      "execution_count": 20,
      "outputs": [
        {
          "output_type": "stream",
          "name": "stdout",
          "text": [
            "[2022-01-09 13:17:02][logged][DEBUG] - Function `logged` called with args: (1, key1=5, key2=7.2)\n",
            "[2022-01-09 13:17:02][logged][INFO] - Function `logged` returned after 0:00:00.074008 with output: None\n"
          ]
        }
      ]
    },
    {
      "cell_type": "code",
      "source": [
        "!head logged.log"
      ],
      "metadata": {
        "colab": {
          "base_uri": "https://localhost:8080/"
        },
        "id": "f9S3GGmXsKpS",
        "outputId": "74938330-c3c8-4f39-b99d-385a65328f96"
      },
      "execution_count": 21,
      "outputs": [
        {
          "output_type": "stream",
          "name": "stdout",
          "text": [
            "[2022-01-09 13:17:02][logged][DEBUG] - Function `logged` called with args: (1, key1=5, key2=7.2)\n",
            "[2022-01-09 13:17:02][logged][INFO] - Function `logged` returned after 0:00:00.074008 with output: None\n"
          ]
        }
      ]
    },
    {
      "cell_type": "markdown",
      "source": [
        "`@fix_this()` reminds you to fix something in a stronger way than a passive comment. It raises `UserWarning` at runtime and does this everytime :)\n"
      ],
      "metadata": {
        "id": "o4Oobz2BsBIy"
      }
    },
    {
      "cell_type": "code",
      "source": [
        "@fix_this('It always prints ValueError, errors should be raised!')\n",
        "def please(x):\n",
        "    print('ValueError')"
      ],
      "metadata": {
        "colab": {
          "base_uri": "https://localhost:8080/"
        },
        "id": "_YdMe19AsgAz",
        "outputId": "e473d52d-b025-4fc9-ab9d-b31df58c5b9d"
      },
      "execution_count": 22,
      "outputs": [
        {
          "output_type": "stream",
          "name": "stderr",
          "text": [
            "/usr/local/lib/python3.7/dist-packages/izy/decorators.py:164: UserWarning: You need to fix `please`! It always prints ValueError, errors should be raised!\n",
            "  warnings.warn(message=message)\n"
          ]
        }
      ]
    },
    {
      "cell_type": "markdown",
      "source": [
        "This one `@ignores()` exceptions you define (and returns `None`). Who knows when and why you need this? :) You can stack it on top of `@logs()` to be aware of ignored exceptions.  \n"
      ],
      "metadata": {
        "id": "gEnr8DVdsosB"
      }
    },
    {
      "cell_type": "code",
      "source": [
        "@ignores(ValueError, IndexError)\n",
        "@logs()\n",
        "def ignorer(x):\n",
        "    for i in range(x):\n",
        "        raise ValueError\n",
        "\n",
        "ignorer(5)    # no error raises, only logging it"
      ],
      "metadata": {
        "colab": {
          "base_uri": "https://localhost:8080/"
        },
        "id": "50Zr2CXxsvXx",
        "outputId": "bda48817-dd1f-4372-b3ed-10a39c62ecae"
      },
      "execution_count": 23,
      "outputs": [
        {
          "output_type": "stream",
          "name": "stdout",
          "text": [
            "[2022-01-09 13:17:03][ignorer][DEBUG] - Function `ignorer` called with args: (5)\n",
            "[2022-01-09 13:17:03][ignorer][ERROR] - ValueError() raised in `ignorer` after 0:00:00.004790!\n"
          ]
        }
      ]
    },
    {
      "cell_type": "markdown",
      "source": [
        "Want more useful exception handler? `@fallsback()` falls back on specified exception to predefined return value or another `callable`. For multiple exceptions, stack it like this:\n"
      ],
      "metadata": {
        "id": "ZtxPrAH2uWXa"
      }
    },
    {
      "cell_type": "code",
      "source": [
        "import math\n",
        "\n",
        "@fallsback(ZeroDivisionError, float('inf'))\n",
        "@fallsback(ValueError, lambda x: x**2)\n",
        "def multifb(x):\n",
        "    if x < 0:\n",
        "        raise ValueError\n",
        "    elif x == 0:\n",
        "        raise ZeroDivisionError\n",
        "    else:\n",
        "      return 1 / math.sqrt(x)\n",
        "\n",
        "print('multifb(25) =', multifb(25))\n",
        "print('multifb(-5) =', multifb(-5))   # falls back to callable\n",
        "print('multifb(0) =', multifb(0))     # falls back to value"
      ],
      "metadata": {
        "colab": {
          "base_uri": "https://localhost:8080/"
        },
        "id": "pEZ-AoMArZO5",
        "outputId": "602a0816-2e82-4268-9f77-a1d36830a798"
      },
      "execution_count": 24,
      "outputs": [
        {
          "output_type": "stream",
          "name": "stdout",
          "text": [
            "multifb(25) = 0.2\n",
            "multifb(-5) = 25\n",
            "multifb(0) = inf\n"
          ]
        }
      ]
    },
    {
      "cell_type": "markdown",
      "source": [
        "# Bidict\n",
        "\n",
        "The **Bidi**rectional **dict**ionary is an invertible one-to-one mapping (a bijection). Obviously both sides should be valid dictionary keys. Uniqueness in either side is preserved by removing previous confilcting pairs, without any warnings. If you already heard about (and used) the great [`bidict`](https://github.com/jab/bidict) package, you can simply skip this one as this is merely a minimal bidict for those in a hurry :)."
      ],
      "metadata": {
        "id": "evJ45gEOlqMm"
      }
    },
    {
      "cell_type": "code",
      "source": [
        "from izy import Bidict\n",
        "\n",
        "bd = Bidict({'a': 1, 'b': 2, 'c': 5})\n",
        "print('bd =', bd)\n",
        "\n",
        "bd = Bidict([('a', 1), ('b', 2), ('c', 5)])\n",
        "print('bd =', bd)\n",
        "\n",
        "bd = Bidict(a=1, b=2, c=5)    # nothing special, just like dict()\n",
        "print('bd =', bd)"
      ],
      "metadata": {
        "colab": {
          "base_uri": "https://localhost:8080/"
        },
        "id": "GItptladmpY4",
        "outputId": "74eed796-ef02-4939-c488-d8c3167c84f4"
      },
      "execution_count": 25,
      "outputs": [
        {
          "output_type": "stream",
          "name": "stdout",
          "text": [
            "bd = Bidict({'a': 1, 'b': 2, 'c': 5})\n",
            "bd = Bidict({'a': 1, 'b': 2, 'c': 5})\n",
            "bd = Bidict({'a': 1, 'b': 2, 'c': 5})\n"
          ]
        }
      ]
    },
    {
      "cell_type": "markdown",
      "source": [
        "This is how you can access the mapping, in the direct way or reversed:"
      ],
      "metadata": {
        "id": "9QtJfXzjnZ1A"
      }
    },
    {
      "cell_type": "code",
      "source": [
        "print('bd.reverse =', bd.r)     # or bd.reverse\n",
        "print(\"bd['c'] =\", bd['c'])\n",
        "print(\"bd.r[5] =\", bd.r[5])"
      ],
      "metadata": {
        "colab": {
          "base_uri": "https://localhost:8080/"
        },
        "id": "27bq52n1m-MP",
        "outputId": "58c8b6fe-2a9e-4cd2-c628-ed3d2278b66d"
      },
      "execution_count": 26,
      "outputs": [
        {
          "output_type": "stream",
          "name": "stdout",
          "text": [
            "bd.reverse = {1: 'a', 2: 'b', 5: 'c'}\n",
            "bd['c'] = 5\n",
            "bd.r[5] = c\n"
          ]
        }
      ]
    },
    {
      "cell_type": "markdown",
      "source": [
        "It is recommended to name the two directions of your `Bidict` to make your code more readable."
      ],
      "metadata": {
        "id": "_IR_kLylmV8-"
      }
    },
    {
      "cell_type": "code",
      "source": [
        "bd = Bidict('char', 'id')           # or Bidict('char-id')\n",
        "bd.update({'a': 1, 'b': 2, 'c': 5})\n",
        "print('bd =', bd)\n",
        "\n",
        "bd = Bidict(char=['a', 'b', 'c'], id=[1, 2, 5])\n",
        "print('bd =', bd)\n",
        "\n",
        "print(\"\\nbd.id['c'] =\", bd.id['c'])\n",
        "print(\"bd.char[5] =\", bd.char[5])\n",
        "\n",
        "print(\"\\nbd.char2id['c'] =\", bd.char2id['c'])   # more expressive access\n",
        "print(\"bd.id2char[5] =\", bd.id2char[5])"
      ],
      "metadata": {
        "colab": {
          "base_uri": "https://localhost:8080/"
        },
        "id": "Y3C5K7N3ntiu",
        "outputId": "4b0c15bc-e9b7-4793-ee11-38e07da5a843"
      },
      "execution_count": 27,
      "outputs": [
        {
          "output_type": "stream",
          "name": "stdout",
          "text": [
            "bd = Bidict({'a': 1, 'b': 2, 'c': 5})\n",
            "bd = Bidict({'a': 1, 'b': 2, 'c': 5})\n",
            "\n",
            "bd.id['c'] = 5\n",
            "bd.char[5] = c\n",
            "\n",
            "bd.char2id['c'] = 5\n",
            "bd.id2char[5] = c\n"
          ]
        }
      ]
    },
    {
      "cell_type": "markdown",
      "source": [
        "On evey update, the `Bidict` makes sure that all values in both directions remain unique. This is done by removing every existing pair which has conflict with the new one (overwritig)."
      ],
      "metadata": {
        "id": "ELoVwqnEqBPv"
      }
    },
    {
      "cell_type": "code",
      "source": [
        "bd.char[2] = 'c'  # two conflicting pairs ('b', 2), ('c', 5) are removed\n",
        "\n",
        "print('bd =', bd)"
      ],
      "metadata": {
        "colab": {
          "base_uri": "https://localhost:8080/"
        },
        "id": "MH5xy3NurCDH",
        "outputId": "e8e1643b-ea2e-4e88-c92a-f6357d70c91d"
      },
      "execution_count": 28,
      "outputs": [
        {
          "output_type": "stream",
          "name": "stdout",
          "text": [
            "bd = Bidict({'a': 1, 'c': 2})\n"
          ]
        }
      ]
    },
    {
      "cell_type": "markdown",
      "source": [
        "Not to mention that a `Bidict` and its reversed views (`bd.r` or other accessors) are still a `dict`."
      ],
      "metadata": {
        "id": "zG7gpj74rVm2"
      }
    },
    {
      "cell_type": "code",
      "source": [
        "print('isinstance(bd, dict) = ', isinstance(bd, dict))\n",
        "\n",
        "for char, id in bd.r.items():\n",
        "  print(char, id)"
      ],
      "metadata": {
        "colab": {
          "base_uri": "https://localhost:8080/"
        },
        "id": "uXynXhoCrzaC",
        "outputId": "e5c4f280-69ae-45d1-de6e-406052d30e7d"
      },
      "execution_count": 29,
      "outputs": [
        {
          "output_type": "stream",
          "name": "stdout",
          "text": [
            "isinstance(bd, dict) =  True\n",
            "1 a\n",
            "2 c\n"
          ]
        }
      ]
    }
  ]
}