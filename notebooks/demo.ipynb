{
  "nbformat": 4,
  "nbformat_minor": 0,
  "metadata": {
    "colab": {
      "name": "izy_demo.ipynb",
      "provenance": [],
      "collapsed_sections": [
        "dG0Vyn-gjCmJ",
        "t_mRXa4sooxo"
      ],
      "authorship_tag": "ABX9TyMaP5BJSqVUhFT7yBjNSHbd",
      "include_colab_link": true
    },
    "kernelspec": {
      "name": "python3",
      "display_name": "Python 3"
    },
    "language_info": {
      "name": "python"
    }
  },
  "cells": [
    {
      "cell_type": "markdown",
      "metadata": {
        "id": "view-in-github",
        "colab_type": "text"
      },
      "source": [
        "<a href=\"https://colab.research.google.com/github/tabasy/izy/blob/main/notebooks/demo.ipynb\" target=\"_parent\"><img src=\"https://colab.research.google.com/assets/colab-badge.svg\" alt=\"Open In Colab\"/></a>"
      ]
    },
    {
      "cell_type": "markdown",
      "source": [
        "# `izy`\n",
        "Python functions and classes that make python even *easier* than it is! You will wonder why these are not already built-in in python! :)\n",
        "\n",
        "The sooner you `pip install izy`, the less time you waste! Just 3 keystrokes to install and import :)"
      ],
      "metadata": {
        "id": "Bry9zVCSi0Tz"
      }
    },
    {
      "cell_type": "code",
      "source": [
        "!pip install izy==0.1.2"
      ],
      "metadata": {
        "colab": {
          "base_uri": "https://localhost:8080/"
        },
        "id": "q_8ov6Ghi2I5",
        "outputId": "86132130-eaf9-424a-e1a1-cdb8b34ba4cb"
      },
      "execution_count": 1,
      "outputs": [
        {
          "output_type": "stream",
          "name": "stdout",
          "text": [
            "Requirement already satisfied: izy==0.1.2 in /usr/local/lib/python3.7/dist-packages (0.1.2)\n"
          ]
        }
      ]
    },
    {
      "cell_type": "markdown",
      "source": [
        "Now that you have it, here are the functionlities:"
      ],
      "metadata": {
        "id": "Q6P6c7Rci7fR"
      }
    },
    {
      "cell_type": "markdown",
      "source": [
        "# Sorting \n",
        "\n",
        "Some operations like `argsort` need 1 or 2 lines to implement in python, but the code is not pythonically readable as it should be. Some other functions like `topk` are somehow hidden in the built-in modules, which we expose with ease!\n",
        "\n",
        "Let us have a big list of numbers and give it an `izy` try:"
      ],
      "metadata": {
        "id": "dG0Vyn-gjCmJ"
      }
    },
    {
      "cell_type": "code",
      "source": [
        "from izy import *\n",
        "\n",
        "mylist = [4.2, 10, -8, 0, 4, 33, 6, 97, 1, 6., 41, -6, 0.0]\n",
        "topk(mylist, 4)"
      ],
      "metadata": {
        "colab": {
          "base_uri": "https://localhost:8080/"
        },
        "id": "UY7uAQjnjIap",
        "outputId": "220744f9-92ef-40e0-d82d-d920a34c1777"
      },
      "execution_count": 2,
      "outputs": [
        {
          "output_type": "execute_result",
          "data": {
            "text/plain": [
              "[97, 41, 33, 10]"
            ]
          },
          "metadata": {},
          "execution_count": 2
        }
      ]
    },
    {
      "cell_type": "code",
      "source": [
        "topk(mylist, -3)     # as you would expect"
      ],
      "metadata": {
        "colab": {
          "base_uri": "https://localhost:8080/"
        },
        "id": "FNtnGBkLn3Nj",
        "outputId": "124ec9ac-c677-4535-97b0-9be3910bcd01"
      },
      "execution_count": 3,
      "outputs": [
        {
          "output_type": "execute_result",
          "data": {
            "text/plain": [
              "[-8, -6, 0]"
            ]
          },
          "metadata": {},
          "execution_count": 3
        }
      ]
    },
    {
      "cell_type": "code",
      "source": [
        "argmin(mylist), argmax(mylist)"
      ],
      "metadata": {
        "colab": {
          "base_uri": "https://localhost:8080/"
        },
        "id": "F0b4GEYUn6DT",
        "outputId": "308d9697-9157-462a-c1b3-4a615584c4fe"
      },
      "execution_count": 4,
      "outputs": [
        {
          "output_type": "execute_result",
          "data": {
            "text/plain": [
              "(2, 7)"
            ]
          },
          "metadata": {},
          "execution_count": 4
        }
      ]
    },
    {
      "cell_type": "code",
      "source": [
        "argsort(mylist)"
      ],
      "metadata": {
        "colab": {
          "base_uri": "https://localhost:8080/"
        },
        "id": "g5LAbShZn_IC",
        "outputId": "0ed5932a-15ca-4d25-a76f-498e37128915"
      },
      "execution_count": 5,
      "outputs": [
        {
          "output_type": "execute_result",
          "data": {
            "text/plain": [
              "[2, 11, 3, 12, 8, 4, 0, 6, 9, 1, 5, 10, 7]"
            ]
          },
          "metadata": {},
          "execution_count": 5
        }
      ]
    },
    {
      "cell_type": "code",
      "source": [
        "descending(mylist)   # I like it more than sorted(x, reverse=True)"
      ],
      "metadata": {
        "colab": {
          "base_uri": "https://localhost:8080/"
        },
        "id": "aMP4M_c9oD0i",
        "outputId": "de47875b-7140-4588-c564-6f93a55a90b9"
      },
      "execution_count": 6,
      "outputs": [
        {
          "output_type": "execute_result",
          "data": {
            "text/plain": [
              "[97, 41, 33, 10, 6, 6.0, 4.2, 4, 1, 0, 0.0, -6, -8]"
            ]
          },
          "metadata": {},
          "execution_count": 6
        }
      ]
    },
    {
      "cell_type": "code",
      "source": [
        "reorder(mylist, argsort(mylist))    # like numpy array indexing"
      ],
      "metadata": {
        "colab": {
          "base_uri": "https://localhost:8080/"
        },
        "id": "TLqtGZvioKhp",
        "outputId": "3e28c6ee-ea05-4625-b429-d1d8738ab0a0"
      },
      "execution_count": 7,
      "outputs": [
        {
          "output_type": "execute_result",
          "data": {
            "text/plain": [
              "[-8, -6, 0, 0.0, 1, 4, 4.2, 6, 6.0, 10, 33, 41, 97]"
            ]
          },
          "metadata": {},
          "execution_count": 7
        }
      ]
    },
    {
      "cell_type": "markdown",
      "source": [
        "If you have a `dict` (or more precisely a `Mapping`), the `arg*` functions take `keys` as indices:"
      ],
      "metadata": {
        "id": "TdTd-KsMoWS4"
      }
    },
    {
      "cell_type": "code",
      "source": [
        "mydict = {'a': 1, 'b': 4, 'c': -1}\n",
        "\n",
        "argmin(mydict)"
      ],
      "metadata": {
        "colab": {
          "base_uri": "https://localhost:8080/",
          "height": 0
        },
        "id": "rwGNWXv_oZkw",
        "outputId": "6a4df65a-abb9-4154-af27-71c895025e39"
      },
      "execution_count": 8,
      "outputs": [
        {
          "output_type": "execute_result",
          "data": {
            "application/vnd.google.colaboratory.intrinsic+json": {
              "type": "string"
            },
            "text/plain": [
              "'c'"
            ]
          },
          "metadata": {},
          "execution_count": 8
        }
      ]
    },
    {
      "cell_type": "code",
      "source": [
        "reorder(mydict, argsort(mydict))    # sorry it cannot return a sorted dict :) \n",
        "                                    # maybe an OrderedDict in the future..."
      ],
      "metadata": {
        "colab": {
          "base_uri": "https://localhost:8080/"
        },
        "id": "WQv2sCg4oc0a",
        "outputId": "b635f467-f5fe-4550-ed43-e41b5f7a98fb"
      },
      "execution_count": 9,
      "outputs": [
        {
          "output_type": "execute_result",
          "data": {
            "text/plain": [
              "[-1, 1, 4]"
            ]
          },
          "metadata": {},
          "execution_count": 9
        }
      ]
    },
    {
      "cell_type": "markdown",
      "source": [
        "# Scorer\n",
        "\n",
        "Dict subclass for scoring hashable items. Generalizes functionality of built-in `Counter` to to floating-point numbers with full math operation support."
      ],
      "metadata": {
        "id": "t_mRXa4sooxo"
      }
    },
    {
      "cell_type": "code",
      "source": [
        "from izy import Scorer\n",
        "\n",
        "s1 = Scorer({'a': 1, 'b': 2, 'c': 5})\n",
        "s1['d'] = 3\n",
        "print('s1 =', s1)\n",
        "\n",
        "s2 = Scorer('abc', [-2, 3, 4])\n",
        "print('s2 =', s2)"
      ],
      "metadata": {
        "colab": {
          "base_uri": "https://localhost:8080/"
        },
        "id": "xUuqZPChon36",
        "outputId": "a1133a98-7840-4fc4-c097-30995241b194"
      },
      "execution_count": 10,
      "outputs": [
        {
          "output_type": "stream",
          "name": "stdout",
          "text": [
            "s1 = Scorer({c: 5, d: 3, b: 2, a: 1})\n",
            "s2 = Scorer({c: 4, b: 3, a: -2})\n"
          ]
        }
      ]
    },
    {
      "cell_type": "markdown",
      "source": [
        "Mathematical operators (`+`, `-`, `*`, `/`, `//`, `%`, `**`) are supported for both `Scorer` and scalar right-hand operands. "
      ],
      "metadata": {
        "id": "r4bDmKFKpBfq"
      }
    },
    {
      "cell_type": "code",
      "source": [
        "print('s1 + s2 =', s1 + s2)\n",
        "print('s1 / 4 =', s1 / 4)"
      ],
      "metadata": {
        "colab": {
          "base_uri": "https://localhost:8080/"
        },
        "id": "hSpOZdqOpDNK",
        "outputId": "02573571-c717-4212-a1ce-144e6d664d32"
      },
      "execution_count": 11,
      "outputs": [
        {
          "output_type": "stream",
          "name": "stdout",
          "text": [
            "s1 + s2 = Scorer({c: 9, b: 5, d: 3, a: -1})\n",
            "s1 / 4 = Scorer({c: 1.25, d: 0.75, b: 0.5, a: 0.25})\n"
          ]
        }
      ]
    },
    {
      "cell_type": "markdown",
      "source": [
        "> ***WARNING!*** To support partial update with math operations, we carry non-common items from the first operand unchanged, but those from the second operand are ignored.\n",
        "\n",
        "Unary math operators (`+`, `-`) are available too."
      ],
      "metadata": {
        "id": "QcDbOcj3pT8s"
      }
    },
    {
      "cell_type": "code",
      "source": [
        "print('+s2 =', +s2)                   # special usage for useless uniary `+` (only keeps positive itmes)\n",
        "print('s1 + (+s2) =', s1 + (+s2))     # not equivalent to s1 + s2"
      ],
      "metadata": {
        "colab": {
          "base_uri": "https://localhost:8080/"
        },
        "id": "WyRATrzBpUUk",
        "outputId": "cd07236f-eaff-4f1d-b45b-a18021959356"
      },
      "execution_count": 12,
      "outputs": [
        {
          "output_type": "stream",
          "name": "stdout",
          "text": [
            "+s2 = Scorer({c: 4, b: 3})\n",
            "s1 + (+s2) = Scorer({c: 9, b: 5, d: 3, a: 1})\n"
          ]
        }
      ]
    },
    {
      "cell_type": "markdown",
      "source": [
        "We also have `abs()`, `round()`:"
      ],
      "metadata": {
        "id": "ya2MFLUVpgna"
      }
    },
    {
      "cell_type": "code",
      "source": [
        "print('abs(s2) =', abs(s2)) \n",
        "print('round(s2/4, 1) =', round(s2/4, 1))"
      ],
      "metadata": {
        "colab": {
          "base_uri": "https://localhost:8080/"
        },
        "id": "VGZeFE8hpg2T",
        "outputId": "2bd38df2-aabf-41a0-9149-55702dd68103"
      },
      "execution_count": 13,
      "outputs": [
        {
          "output_type": "stream",
          "name": "stdout",
          "text": [
            "abs(s2) = Scorer({c: 4, b: 3, a: 2})\n",
            "round(s2/4, 1) = Scorer({c: 1.0, b: 0.8, a: -0.5})\n"
          ]
        }
      ]
    },
    {
      "cell_type": "markdown",
      "source": [
        "Logical operators `&`, `|` apply element-wise min/max and they are also applicable to scalars. As `Scorer` is not a `set` or even `multiset` (like `Counter`), we don't refer to these as intersection and union, but the functionalities are still similar. "
      ],
      "metadata": {
        "id": "oJzGh_tyqBlq"
      }
    },
    {
      "cell_type": "code",
      "source": [
        "print('s1 & s2 =', abs(s1 & s2))      # ~ min (drops non-common items)\n",
        "print('s1 & 2 =', s1 & 2)             # drops items with score less than 2\n",
        "print('s1 | s2 =', s1 | s2)           # ~ max\n"
      ],
      "metadata": {
        "colab": {
          "base_uri": "https://localhost:8080/"
        },
        "id": "klQBmiTEqIgi",
        "outputId": "9cd1112f-8e2e-448e-dd96-4f2ed5f76928"
      },
      "execution_count": 14,
      "outputs": [
        {
          "output_type": "stream",
          "name": "stdout",
          "text": [
            "s1 & s2 = Scorer({c: 4, a: 2, b: 2})\n",
            "s1 & 2 = Scorer({c: 5, d: 3, b: 2})\n",
            "s1 | s2 = Scorer({c: 5, b: 3, d: 3, a: 1})\n"
          ]
        }
      ]
    },
    {
      "cell_type": "markdown",
      "source": [
        "> About the above warning, note that `(s1 | (s1 & s2))` gives the subset of `s1` which also exists in `s2`. You can use this to force math operations to return common items only.\n",
        "\n",
        "And finally the ultimate goal of the `Scorer` is to sort its items according to scores and give us the `best`, `topk` (or `worst`, `bottomk`)."
      ],
      "metadata": {
        "id": "QSFNjcviqtDq"
      }
    },
    {
      "cell_type": "code",
      "source": [
        "print('s1.best() =', s1.best())           \n",
        "print('s1.topk(3) =', s1.topk(3))           # alias to `s1.best` but more readable when you specify the number of items\n",
        "print('s1.topk(-2) =', s1.topk(-2))         # negative k means bottom k\n",
        "print('s1.ascending() =', s1.ascending())   # prefer this to `best` or `topk` with special values of n or k (None, 0, inf)\n",
        "print('s1.median() =', s1.median())         # if scorer length is even, lower median is returned"
      ],
      "metadata": {
        "colab": {
          "base_uri": "https://localhost:8080/"
        },
        "id": "f5wafotMquTi",
        "outputId": "f2fd0d5a-71c9-4ec6-a27c-77dc544661d0"
      },
      "execution_count": 15,
      "outputs": [
        {
          "output_type": "stream",
          "name": "stdout",
          "text": [
            "s1.best() = ('c', 5)\n",
            "s1.topk(3) = [('c', 5), ('d', 3), ('b', 2)]\n",
            "s1.topk(-2) = [('a', 1), ('b', 2)]\n",
            "s1.ascending() = [('a', 1), ('b', 2), ('d', 3), ('c', 5)]\n",
            "s1.median() = ('b', 2)\n"
          ]
        }
      ]
    },
    {
      "cell_type": "markdown",
      "source": [
        "# Decorators\n",
        "\n",
        "Python `functools` is really interesting, but it really lacks some generally usefull decorators."
      ],
      "metadata": {
        "id": "ChY-YRTKiiua"
      }
    },
    {
      "cell_type": "markdown",
      "source": [
        "First, `@returns()` and `@yields()` make your function/generator return/yield `namedtuple`s to more pythonically access your function output. It also looks like an easy documentation to me (about the *meaning* of what function returns and not just the `type`)."
      ],
      "metadata": {
        "id": "SbVbUSKcu9G6"
      }
    },
    {
      "cell_type": "code",
      "source": [
        "from izy import *\n",
        "\n",
        "@returns('x', 'plus_one')\n",
        "def myfunction(x):\n",
        "    return x, x+1\n",
        "\n",
        "@yields('a', 'a_doubled')\n",
        "def mygenerator(x):\n",
        "    for i in range(x):\n",
        "        yield i, i*2\n",
        "\n",
        "print('myfunction(5) =', myfunction(5))\n",
        "print('myfunction(5).plus_one =', myfunction(5).plus_one)"
      ],
      "metadata": {
        "colab": {
          "base_uri": "https://localhost:8080/"
        },
        "id": "W-kpRXajrqoK",
        "outputId": "3cf93622-2aa8-4835-e6a1-50d7d8fb6ab4"
      },
      "execution_count": 16,
      "outputs": [
        {
          "output_type": "stream",
          "name": "stdout",
          "text": [
            "myfunction(5) = myfunction_output(x=5, plus_one=6)\n",
            "myfunction(5).plus_one = 6\n"
          ]
        }
      ]
    },
    {
      "cell_type": "markdown",
      "source": [
        "`@returns_time()` calculates function runtime and returns it as a `datetime.timedelta` object. You can change time format to `milis` (`int`) or `seconds` (`float`). It returns a  `namedtuple` which you can rename with using `@returns`.\n"
      ],
      "metadata": {
        "id": "YE_-rZ8ArrS6"
      }
    },
    {
      "cell_type": "code",
      "source": [
        "@returns_time()\n",
        "def timed(x):\n",
        "    z = 0\n",
        "    for i in range(x * 1000000):\n",
        "        z += i\n",
        "\n",
        "@returns('output', 'milis')\n",
        "@returns_time(milis=True)\n",
        "def timed_milis(x):\n",
        "    z = 0\n",
        "    for i in range(x * 1000000):\n",
        "        z += i\n",
        "    return 'done'\n",
        "\n",
        "print('timed(64) =', timed(64))\n",
        "print('timed_milis(32) =', timed_milis(32))"
      ],
      "metadata": {
        "colab": {
          "base_uri": "https://localhost:8080/"
        },
        "id": "R0V1ouxPruxz",
        "outputId": "d7964519-e8cf-4f68-b40c-9e86effdb559"
      },
      "execution_count": 17,
      "outputs": [
        {
          "output_type": "stream",
          "name": "stdout",
          "text": [
            "timed(64) = timed_output(output=None, time=datetime.timedelta(seconds=4, microseconds=976685))\n",
            "timed_milis(32) = timed_milis_output(output='done', milis=2702)\n"
          ]
        }
      ]
    },
    {
      "cell_type": "markdown",
      "source": [
        "`@logs()` does what it says at three stages: before calling, after returning and on exceptions. You can control log level for each stage, log `to_file` using default logger (named after the function) or pass your own `logging.Logger`.\n"
      ],
      "metadata": {
        "id": "tccXg1LJr9Mq"
      }
    },
    {
      "cell_type": "code",
      "source": [
        "import logging\n",
        "\n",
        "root_logger = logging.getLogger()\n",
        "root_logger.setLevel(logging.DEBUG)\n",
        "\n",
        "@logs(before=logging.DEBUG, after=logging.INFO,\n",
        "      to_file='logged.log', file_mode='w')\n",
        "def logged(x, **kw):\n",
        "    for i in range(1000000):\n",
        "        x += i\n",
        "  \n",
        "logged(1, key1=5, key2=7.2)"
      ],
      "metadata": {
        "colab": {
          "base_uri": "https://localhost:8080/"
        },
        "id": "o8G4xUOvsCJh",
        "outputId": "7f2fbadd-62ba-4ea5-bb1b-b1fc3bb299dd"
      },
      "execution_count": 18,
      "outputs": [
        {
          "output_type": "stream",
          "name": "stdout",
          "text": [
            "[2021-12-31 19:20:14][logged][DEBUG] - Function `logged` called with args: (1, key1=5, key2=7.2)\n",
            "[2021-12-31 19:20:14][logged][INFO] - Function `logged` returned after 0:00:00.155485 with output: None\n"
          ]
        }
      ]
    },
    {
      "cell_type": "code",
      "source": [
        "!head logged.log"
      ],
      "metadata": {
        "colab": {
          "base_uri": "https://localhost:8080/"
        },
        "id": "f9S3GGmXsKpS",
        "outputId": "ae5a4990-7556-4f9a-812e-ef9644654733"
      },
      "execution_count": 19,
      "outputs": [
        {
          "output_type": "stream",
          "name": "stdout",
          "text": [
            "[2021-12-31 19:20:14][logged][DEBUG] - Function `logged` called with args: (1, key1=5, key2=7.2)\n",
            "[2021-12-31 19:20:14][logged][INFO] - Function `logged` returned after 0:00:00.155485 with output: None\n"
          ]
        }
      ]
    },
    {
      "cell_type": "markdown",
      "source": [
        "`@fix_this()` reminds you to fix something in stronger way than a passive comment. It raises `UserWarning` at runtime and does this everytime :)\n"
      ],
      "metadata": {
        "id": "o4Oobz2BsBIy"
      }
    },
    {
      "cell_type": "code",
      "source": [
        "@fix_this('It always prints ValueError, errors should be raised!')\n",
        "def please(x):\n",
        "    print('ValueError')"
      ],
      "metadata": {
        "colab": {
          "base_uri": "https://localhost:8080/"
        },
        "id": "_YdMe19AsgAz",
        "outputId": "0ba77ef7-c28d-458b-a6cb-78baf8476c0a"
      },
      "execution_count": 20,
      "outputs": [
        {
          "output_type": "stream",
          "name": "stderr",
          "text": [
            "/usr/local/lib/python3.7/dist-packages/izy/decorator.py:134: UserWarning: You need to fix `please`! It always prints ValueError, errors should be raised!\n",
            "  warnings.warn(message=message)\n"
          ]
        }
      ]
    },
    {
      "cell_type": "markdown",
      "source": [
        "This one `@ignores()` exceptions you define (and returns `None`). Who knows when and why you need this? :) You can stack it on top of `@logs()` to be aware of ignored exceptions.  \n"
      ],
      "metadata": {
        "id": "gEnr8DVdsosB"
      }
    },
    {
      "cell_type": "code",
      "source": [
        "@ignores(ValueError, IndexError)\n",
        "@logs()\n",
        "def ignorer(x):\n",
        "    for i in range(x):\n",
        "        raise ValueError\n",
        "\n",
        "ignorer(5)    # no error raises, only logging it"
      ],
      "metadata": {
        "colab": {
          "base_uri": "https://localhost:8080/"
        },
        "id": "50Zr2CXxsvXx",
        "outputId": "bce25b0a-f46c-4734-fef7-063bda460144"
      },
      "execution_count": 21,
      "outputs": [
        {
          "output_type": "stream",
          "name": "stdout",
          "text": [
            "[2021-12-31 19:20:14][ignorer][DEBUG] - Function `ignorer` called with args: (5)\n",
            "[2021-12-31 19:20:14][ignorer][ERROR] - ValueError() raised in `ignorer` after 0:00:00.008092!\n"
          ]
        }
      ]
    },
    {
      "cell_type": "markdown",
      "source": [
        "Want more useful exception handler? `@fallsback()` falls back on specified exception to predefined return value or another `callable`. For multiple exceptions, stack it like this:\n"
      ],
      "metadata": {
        "id": "ZtxPrAH2uWXa"
      }
    },
    {
      "cell_type": "code",
      "source": [
        "import math\n",
        "\n",
        "@fallsback(ZeroDivisionError, float('inf'))\n",
        "@fallsback(ValueError, lambda x: x**2)\n",
        "def multifb(x):\n",
        "    if x < 0:\n",
        "        raise ValueError\n",
        "    elif x == 0:\n",
        "        raise ZeroDivisionError\n",
        "    else:\n",
        "      return 1 / math.sqrt(x)\n",
        "\n",
        "print('multifb(25) =', multifb(25))\n",
        "print('multifb(-5) =', multifb(-5))   # falls back to callable\n",
        "print('multifb(0) =', multifb(0))     # falls back to value"
      ],
      "metadata": {
        "colab": {
          "base_uri": "https://localhost:8080/"
        },
        "id": "pEZ-AoMArZO5",
        "outputId": "c110421c-128f-4985-d464-a0d2f830ffbc"
      },
      "execution_count": 22,
      "outputs": [
        {
          "output_type": "stream",
          "name": "stdout",
          "text": [
            "multifb(25) = 0.2\n",
            "multifb(-5) = 25\n",
            "multifb(0) = inf\n"
          ]
        }
      ]
    }
  ]
}